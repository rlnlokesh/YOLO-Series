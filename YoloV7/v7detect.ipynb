{
 "cells": [
  {
   "cell_type": "code",
   "execution_count": 1,
   "id": "0f36de81-7398-4662-b393-e8db685012ac",
   "metadata": {},
   "outputs": [],
   "source": [
    "import numpy as np # linear algebra\n",
    "import pandas as pd # data processing, CSV file I/O (e.g. pd.read_csv)\n",
    "import os\n",
    "from matplotlib import pyplot as plt \n",
    "import cv2 as cv"
   ]
  },
  {
   "cell_type": "code",
   "execution_count": 2,
   "id": "f7b28258-8305-4073-bfb8-7221c0eeeed4",
   "metadata": {},
   "outputs": [
    {
     "name": "stderr",
     "output_type": "stream",
     "text": [
      "Cloning into 'yolov7'...\n"
     ]
    }
   ],
   "source": [
    "# !git clone https://github.com/WongKinYiu/yolov7"
   ]
  },
  {
   "cell_type": "code",
   "execution_count": 3,
   "id": "63bee026-3ad8-4bbf-81e5-21969901db3f",
   "metadata": {},
   "outputs": [
    {
     "name": "stdout",
     "output_type": "stream",
     "text": [
      "C:\\Users\\HP\\Desktop\\Y Python\\YOLO\\v7\\yolov7\n"
     ]
    },
    {
     "name": "stderr",
     "output_type": "stream",
     "text": [
      "C:\\Users\\HP\\anaconda3\\envs\\lokesh\\lib\\site-packages\\IPython\\core\\magics\\osm.py:417: UserWarning: using dhist requires you to install the `pickleshare` library.\n",
      "  self.shell.db['dhist'] = compress_dhist(dhist)[-100:]\n"
     ]
    }
   ],
   "source": [
    "%cd yolov7"
   ]
  },
  {
   "cell_type": "code",
   "execution_count": 4,
   "id": "56117676-3f1a-416d-a32b-ff49efee3755",
   "metadata": {},
   "outputs": [
    {
     "name": "stdout",
     "output_type": "stream",
     "text": [
      "Requirement already satisfied: matplotlib>=3.2.2 in c:\\users\\hp\\anaconda3\\envs\\lokesh\\lib\\site-packages (from -r requirements.txt (line 4)) (3.8.2)\n",
      "Collecting numpy<1.24.0,>=1.18.5 (from -r requirements.txt (line 5))\n",
      "  Downloading numpy-1.23.5-cp310-cp310-win_amd64.whl.metadata (2.3 kB)\n",
      "Requirement already satisfied: opencv-python>=4.1.1 in c:\\users\\hp\\anaconda3\\envs\\lokesh\\lib\\site-packages (from -r requirements.txt (line 6)) (4.9.0.80)\n",
      "Requirement already satisfied: Pillow>=7.1.2 in c:\\users\\hp\\anaconda3\\envs\\lokesh\\lib\\site-packages (from -r requirements.txt (line 7)) (10.3.0)\n",
      "Requirement already satisfied: PyYAML>=5.3.1 in c:\\users\\hp\\anaconda3\\envs\\lokesh\\lib\\site-packages (from -r requirements.txt (line 8)) (6.0.1)\n",
      "Requirement already satisfied: requests>=2.23.0 in c:\\users\\hp\\anaconda3\\envs\\lokesh\\lib\\site-packages (from -r requirements.txt (line 9)) (2.32.3)\n",
      "Requirement already satisfied: scipy>=1.4.1 in c:\\users\\hp\\anaconda3\\envs\\lokesh\\lib\\site-packages (from -r requirements.txt (line 10)) (1.12.0)\n",
      "Requirement already satisfied: torch!=1.12.0,>=1.7.0 in c:\\users\\hp\\anaconda3\\envs\\lokesh\\lib\\site-packages (from -r requirements.txt (line 11)) (2.3.0)\n",
      "Requirement already satisfied: torchvision!=0.13.0,>=0.8.1 in c:\\users\\hp\\anaconda3\\envs\\lokesh\\lib\\site-packages (from -r requirements.txt (line 12)) (0.18.0)\n",
      "Requirement already satisfied: tqdm>=4.41.0 in c:\\users\\hp\\anaconda3\\envs\\lokesh\\lib\\site-packages (from -r requirements.txt (line 13)) (4.66.2)\n",
      "Collecting protobuf<4.21.3 (from -r requirements.txt (line 14))\n",
      "  Downloading protobuf-4.21.2-cp310-abi3-win_amd64.whl.metadata (540 bytes)\n",
      "Requirement already satisfied: tensorboard>=2.4.1 in c:\\users\\hp\\anaconda3\\envs\\lokesh\\lib\\site-packages (from -r requirements.txt (line 17)) (2.16.2)\n",
      "Requirement already satisfied: pandas>=1.1.4 in c:\\users\\hp\\anaconda3\\envs\\lokesh\\lib\\site-packages (from -r requirements.txt (line 21)) (2.2.0)\n",
      "Requirement already satisfied: seaborn>=0.11.0 in c:\\users\\hp\\anaconda3\\envs\\lokesh\\lib\\site-packages (from -r requirements.txt (line 22)) (0.13.2)\n",
      "Requirement already satisfied: ipython in c:\\users\\hp\\anaconda3\\envs\\lokesh\\lib\\site-packages (from -r requirements.txt (line 34)) (8.20.0)\n",
      "Requirement already satisfied: psutil in c:\\users\\hp\\anaconda3\\envs\\lokesh\\lib\\site-packages (from -r requirements.txt (line 35)) (5.9.0)\n",
      "Requirement already satisfied: thop in c:\\users\\hp\\anaconda3\\envs\\lokesh\\lib\\site-packages (from -r requirements.txt (line 36)) (0.1.1.post2209072238)\n",
      "Requirement already satisfied: contourpy>=1.0.1 in c:\\users\\hp\\anaconda3\\envs\\lokesh\\lib\\site-packages (from matplotlib>=3.2.2->-r requirements.txt (line 4)) (1.2.0)\n",
      "Requirement already satisfied: cycler>=0.10 in c:\\users\\hp\\anaconda3\\envs\\lokesh\\lib\\site-packages (from matplotlib>=3.2.2->-r requirements.txt (line 4)) (0.12.1)\n",
      "Requirement already satisfied: fonttools>=4.22.0 in c:\\users\\hp\\anaconda3\\envs\\lokesh\\lib\\site-packages (from matplotlib>=3.2.2->-r requirements.txt (line 4)) (4.47.2)\n",
      "Requirement already satisfied: kiwisolver>=1.3.1 in c:\\users\\hp\\anaconda3\\envs\\lokesh\\lib\\site-packages (from matplotlib>=3.2.2->-r requirements.txt (line 4)) (1.4.5)\n",
      "Requirement already satisfied: packaging>=20.0 in c:\\users\\hp\\anaconda3\\envs\\lokesh\\lib\\site-packages (from matplotlib>=3.2.2->-r requirements.txt (line 4)) (23.1)\n",
      "Requirement already satisfied: pyparsing>=2.3.1 in c:\\users\\hp\\anaconda3\\envs\\lokesh\\lib\\site-packages (from matplotlib>=3.2.2->-r requirements.txt (line 4)) (3.1.1)\n",
      "Requirement already satisfied: python-dateutil>=2.7 in c:\\users\\hp\\anaconda3\\envs\\lokesh\\lib\\site-packages (from matplotlib>=3.2.2->-r requirements.txt (line 4)) (2.8.2)\n",
      "Requirement already satisfied: charset-normalizer<4,>=2 in c:\\users\\hp\\anaconda3\\envs\\lokesh\\lib\\site-packages (from requests>=2.23.0->-r requirements.txt (line 9)) (2.0.4)\n",
      "Requirement already satisfied: idna<4,>=2.5 in c:\\users\\hp\\anaconda3\\envs\\lokesh\\lib\\site-packages (from requests>=2.23.0->-r requirements.txt (line 9)) (3.4)\n",
      "Requirement already satisfied: urllib3<3,>=1.21.1 in c:\\users\\hp\\anaconda3\\envs\\lokesh\\lib\\site-packages (from requests>=2.23.0->-r requirements.txt (line 9)) (1.26.18)\n",
      "Requirement already satisfied: certifi>=2017.4.17 in c:\\users\\hp\\anaconda3\\envs\\lokesh\\lib\\site-packages (from requests>=2.23.0->-r requirements.txt (line 9)) (2024.2.2)\n",
      "Requirement already satisfied: filelock in c:\\users\\hp\\anaconda3\\envs\\lokesh\\lib\\site-packages (from torch!=1.12.0,>=1.7.0->-r requirements.txt (line 11)) (3.14.0)\n",
      "Requirement already satisfied: typing-extensions>=4.8.0 in c:\\users\\hp\\anaconda3\\envs\\lokesh\\lib\\site-packages (from torch!=1.12.0,>=1.7.0->-r requirements.txt (line 11)) (4.9.0)\n",
      "Requirement already satisfied: sympy in c:\\users\\hp\\anaconda3\\envs\\lokesh\\lib\\site-packages (from torch!=1.12.0,>=1.7.0->-r requirements.txt (line 11)) (1.12.1)\n",
      "Requirement already satisfied: networkx in c:\\users\\hp\\anaconda3\\envs\\lokesh\\lib\\site-packages (from torch!=1.12.0,>=1.7.0->-r requirements.txt (line 11)) (3.3)\n",
      "Requirement already satisfied: jinja2 in c:\\users\\hp\\anaconda3\\envs\\lokesh\\lib\\site-packages (from torch!=1.12.0,>=1.7.0->-r requirements.txt (line 11)) (3.1.2)\n",
      "Requirement already satisfied: fsspec in c:\\users\\hp\\anaconda3\\envs\\lokesh\\lib\\site-packages (from torch!=1.12.0,>=1.7.0->-r requirements.txt (line 11)) (2024.5.0)\n",
      "Requirement already satisfied: mkl<=2021.4.0,>=2021.1.1 in c:\\users\\hp\\anaconda3\\envs\\lokesh\\lib\\site-packages (from torch!=1.12.0,>=1.7.0->-r requirements.txt (line 11)) (2021.4.0)\n",
      "Requirement already satisfied: colorama in c:\\users\\hp\\anaconda3\\envs\\lokesh\\lib\\site-packages (from tqdm>=4.41.0->-r requirements.txt (line 13)) (0.4.6)\n",
      "Requirement already satisfied: absl-py>=0.4 in c:\\users\\hp\\anaconda3\\envs\\lokesh\\lib\\site-packages (from tensorboard>=2.4.1->-r requirements.txt (line 17)) (2.1.0)\n",
      "Requirement already satisfied: grpcio>=1.48.2 in c:\\users\\hp\\anaconda3\\envs\\lokesh\\lib\\site-packages (from tensorboard>=2.4.1->-r requirements.txt (line 17)) (1.62.1)\n",
      "Requirement already satisfied: markdown>=2.6.8 in c:\\users\\hp\\anaconda3\\envs\\lokesh\\lib\\site-packages (from tensorboard>=2.4.1->-r requirements.txt (line 17)) (3.5.2)\n",
      "Requirement already satisfied: setuptools>=41.0.0 in c:\\users\\hp\\anaconda3\\envs\\lokesh\\lib\\site-packages (from tensorboard>=2.4.1->-r requirements.txt (line 17)) (68.2.2)\n",
      "Requirement already satisfied: six>1.9 in c:\\users\\hp\\anaconda3\\envs\\lokesh\\lib\\site-packages (from tensorboard>=2.4.1->-r requirements.txt (line 17)) (1.16.0)\n",
      "Requirement already satisfied: tensorboard-data-server<0.8.0,>=0.7.0 in c:\\users\\hp\\anaconda3\\envs\\lokesh\\lib\\site-packages (from tensorboard>=2.4.1->-r requirements.txt (line 17)) (0.7.2)\n",
      "Requirement already satisfied: werkzeug>=1.0.1 in c:\\users\\hp\\anaconda3\\envs\\lokesh\\lib\\site-packages (from tensorboard>=2.4.1->-r requirements.txt (line 17)) (3.0.1)\n",
      "Requirement already satisfied: pytz>=2020.1 in c:\\users\\hp\\anaconda3\\envs\\lokesh\\lib\\site-packages (from pandas>=1.1.4->-r requirements.txt (line 21)) (2023.3.post1)\n",
      "Requirement already satisfied: tzdata>=2022.7 in c:\\users\\hp\\anaconda3\\envs\\lokesh\\lib\\site-packages (from pandas>=1.1.4->-r requirements.txt (line 21)) (2023.4)\n",
      "Requirement already satisfied: decorator in c:\\users\\hp\\anaconda3\\envs\\lokesh\\lib\\site-packages (from ipython->-r requirements.txt (line 34)) (5.1.1)\n",
      "Requirement already satisfied: jedi>=0.16 in c:\\users\\hp\\anaconda3\\envs\\lokesh\\lib\\site-packages (from ipython->-r requirements.txt (line 34)) (0.18.1)\n",
      "Requirement already satisfied: matplotlib-inline in c:\\users\\hp\\anaconda3\\envs\\lokesh\\lib\\site-packages (from ipython->-r requirements.txt (line 34)) (0.1.6)\n",
      "Requirement already satisfied: prompt-toolkit<3.1.0,>=3.0.41 in c:\\users\\hp\\anaconda3\\envs\\lokesh\\lib\\site-packages (from ipython->-r requirements.txt (line 34)) (3.0.43)\n",
      "Requirement already satisfied: pygments>=2.4.0 in c:\\users\\hp\\anaconda3\\envs\\lokesh\\lib\\site-packages (from ipython->-r requirements.txt (line 34)) (2.15.1)\n",
      "Requirement already satisfied: stack-data in c:\\users\\hp\\anaconda3\\envs\\lokesh\\lib\\site-packages (from ipython->-r requirements.txt (line 34)) (0.2.0)\n",
      "Requirement already satisfied: traitlets>=5 in c:\\users\\hp\\anaconda3\\envs\\lokesh\\lib\\site-packages (from ipython->-r requirements.txt (line 34)) (5.7.1)\n",
      "Requirement already satisfied: exceptiongroup in c:\\users\\hp\\anaconda3\\envs\\lokesh\\lib\\site-packages (from ipython->-r requirements.txt (line 34)) (1.0.4)\n",
      "Requirement already satisfied: parso<0.9.0,>=0.8.0 in c:\\users\\hp\\anaconda3\\envs\\lokesh\\lib\\site-packages (from jedi>=0.16->ipython->-r requirements.txt (line 34)) (0.8.3)\n",
      "Requirement already satisfied: intel-openmp==2021.* in c:\\users\\hp\\anaconda3\\envs\\lokesh\\lib\\site-packages (from mkl<=2021.4.0,>=2021.1.1->torch!=1.12.0,>=1.7.0->-r requirements.txt (line 11)) (2021.4.0)\n",
      "Requirement already satisfied: tbb==2021.* in c:\\users\\hp\\anaconda3\\envs\\lokesh\\lib\\site-packages (from mkl<=2021.4.0,>=2021.1.1->torch!=1.12.0,>=1.7.0->-r requirements.txt (line 11)) (2021.12.0)\n",
      "Requirement already satisfied: wcwidth in c:\\users\\hp\\anaconda3\\envs\\lokesh\\lib\\site-packages (from prompt-toolkit<3.1.0,>=3.0.41->ipython->-r requirements.txt (line 34)) (0.2.5)\n",
      "Requirement already satisfied: MarkupSafe>=2.1.1 in c:\\users\\hp\\anaconda3\\envs\\lokesh\\lib\\site-packages (from werkzeug>=1.0.1->tensorboard>=2.4.1->-r requirements.txt (line 17)) (2.1.3)\n",
      "Requirement already satisfied: executing in c:\\users\\hp\\anaconda3\\envs\\lokesh\\lib\\site-packages (from stack-data->ipython->-r requirements.txt (line 34)) (0.8.3)\n",
      "Requirement already satisfied: asttokens in c:\\users\\hp\\anaconda3\\envs\\lokesh\\lib\\site-packages (from stack-data->ipython->-r requirements.txt (line 34)) (2.0.5)\n",
      "Requirement already satisfied: pure-eval in c:\\users\\hp\\anaconda3\\envs\\lokesh\\lib\\site-packages (from stack-data->ipython->-r requirements.txt (line 34)) (0.2.2)\n",
      "Requirement already satisfied: mpmath<1.4.0,>=1.1.0 in c:\\users\\hp\\anaconda3\\envs\\lokesh\\lib\\site-packages (from sympy->torch!=1.12.0,>=1.7.0->-r requirements.txt (line 11)) (1.3.0)\n",
      "Downloading numpy-1.23.5-cp310-cp310-win_amd64.whl (14.6 MB)\n",
      "   ---------------------------------------- 0.0/14.6 MB ? eta -:--:--\n",
      "   ---------------------------------------- 0.0/14.6 MB ? eta -:--:--\n",
      "   ---------------------------------------- 0.0/14.6 MB ? eta -:--:--\n",
      "   ---------------------------------------- 0.0/14.6 MB ? eta -:--:--\n",
      "   ---------------------------------------- 0.0/14.6 MB 217.9 kB/s eta 0:01:08\n",
      "   ---------------------------------------- 0.0/14.6 MB 217.9 kB/s eta 0:01:08\n",
      "   ---------------------------------------- 0.1/14.6 MB 374.1 kB/s eta 0:00:39\n",
      "   ---------------------------------------- 0.1/14.6 MB 450.6 kB/s eta 0:00:33\n",
      "   ---------------------------------------- 0.1/14.6 MB 450.6 kB/s eta 0:00:33\n",
      "   ---------------------------------------- 0.1/14.6 MB 450.6 kB/s eta 0:00:33\n",
      "   ---------------------------------------- 0.1/14.6 MB 450.6 kB/s eta 0:00:33\n",
      "    --------------------------------------- 0.3/14.6 MB 655.2 kB/s eta 0:00:22\n",
      "    --------------------------------------- 0.3/14.6 MB 655.2 kB/s eta 0:00:22\n",
      "   - -------------------------------------- 0.6/14.6 MB 992.2 kB/s eta 0:00:15\n",
      "   - -------------------------------------- 0.6/14.6 MB 992.1 kB/s eta 0:00:15\n",
      "   - -------------------------------------- 0.6/14.6 MB 992.1 kB/s eta 0:00:15\n",
      "   - -------------------------------------- 0.6/14.6 MB 849.6 kB/s eta 0:00:17\n",
      "   -- ------------------------------------- 0.9/14.6 MB 1.2 MB/s eta 0:00:12\n",
      "   --- ------------------------------------ 1.1/14.6 MB 1.4 MB/s eta 0:00:10\n",
      "   ---- ----------------------------------- 1.5/14.6 MB 1.8 MB/s eta 0:00:08\n",
      "   ---- ----------------------------------- 1.6/14.6 MB 1.9 MB/s eta 0:00:08\n",
      "   ---- ----------------------------------- 1.6/14.6 MB 1.7 MB/s eta 0:00:08\n",
      "   ----- ---------------------------------- 1.9/14.6 MB 2.0 MB/s eta 0:00:07\n",
      "   ----- ---------------------------------- 2.1/14.6 MB 2.0 MB/s eta 0:00:07\n",
      "   ------ --------------------------------- 2.4/14.6 MB 2.3 MB/s eta 0:00:06\n",
      "   ------- -------------------------------- 2.7/14.6 MB 2.5 MB/s eta 0:00:05\n",
      "   -------- ------------------------------- 3.2/14.6 MB 2.8 MB/s eta 0:00:05\n",
      "   -------- ------------------------------- 3.2/14.6 MB 2.7 MB/s eta 0:00:05\n",
      "   --------- ------------------------------ 3.4/14.6 MB 2.8 MB/s eta 0:00:05\n",
      "   --------- ------------------------------ 3.6/14.6 MB 2.9 MB/s eta 0:00:04\n",
      "   --------- ------------------------------ 3.6/14.6 MB 2.9 MB/s eta 0:00:04\n",
      "   --------- ------------------------------ 3.6/14.6 MB 2.9 MB/s eta 0:00:04\n",
      "   --------- ------------------------------ 3.6/14.6 MB 2.9 MB/s eta 0:00:04\n",
      "   ---------- ----------------------------- 4.0/14.6 MB 2.7 MB/s eta 0:00:04\n",
      "   ----------- ---------------------------- 4.1/14.6 MB 2.7 MB/s eta 0:00:04\n",
      "   ----------- ---------------------------- 4.3/14.6 MB 2.8 MB/s eta 0:00:04\n",
      "   ------------ --------------------------- 4.6/14.6 MB 2.8 MB/s eta 0:00:04\n",
      "   ------------- -------------------------- 4.9/14.6 MB 3.0 MB/s eta 0:00:04\n",
      "   -------------- ------------------------- 5.4/14.6 MB 3.2 MB/s eta 0:00:03\n",
      "   --------------- ------------------------ 5.8/14.6 MB 3.3 MB/s eta 0:00:03\n",
      "   ----------------- ---------------------- 6.3/14.6 MB 3.5 MB/s eta 0:00:03\n",
      "   ------------------ --------------------- 6.8/14.6 MB 3.7 MB/s eta 0:00:03\n",
      "   ------------------- -------------------- 7.2/14.6 MB 3.8 MB/s eta 0:00:02\n",
      "   -------------------- ------------------- 7.6/14.6 MB 3.9 MB/s eta 0:00:02\n",
      "   ---------------------- ----------------- 8.2/14.6 MB 4.1 MB/s eta 0:00:02\n",
      "   ----------------------- ---------------- 8.6/14.6 MB 4.3 MB/s eta 0:00:02\n",
      "   ----------------------- ---------------- 8.6/14.6 MB 4.2 MB/s eta 0:00:02\n",
      "   ----------------------- ---------------- 8.6/14.6 MB 4.2 MB/s eta 0:00:02\n",
      "   ----------------------- ---------------- 8.6/14.6 MB 4.2 MB/s eta 0:00:02\n",
      "   ----------------------- ---------------- 8.6/14.6 MB 4.2 MB/s eta 0:00:02\n",
      "   ------------------------ --------------- 8.9/14.6 MB 3.9 MB/s eta 0:00:02\n",
      "   ------------------------- -------------- 9.4/14.6 MB 4.1 MB/s eta 0:00:02\n",
      "   ------------------------- -------------- 9.5/14.6 MB 4.0 MB/s eta 0:00:02\n",
      "   --------------------------- ------------ 9.9/14.6 MB 4.1 MB/s eta 0:00:02\n",
      "   ---------------------------- ----------- 10.5/14.6 MB 5.0 MB/s eta 0:00:01\n",
      "   ----------------------------- ---------- 10.8/14.6 MB 5.7 MB/s eta 0:00:01\n",
      "   ------------------------------ --------- 11.3/14.6 MB 5.8 MB/s eta 0:00:01\n",
      "   -------------------------------- ------- 11.8/14.6 MB 5.8 MB/s eta 0:00:01\n",
      "   --------------------------------- ------ 12.4/14.6 MB 6.4 MB/s eta 0:00:01\n",
      "   ---------------------------------- ----- 12.7/14.6 MB 6.4 MB/s eta 0:00:01\n",
      "   ------------------------------------ --- 13.3/14.6 MB 6.5 MB/s eta 0:00:01\n",
      "   ------------------------------------- -- 13.8/14.6 MB 6.7 MB/s eta 0:00:01\n",
      "   ---------------------------------------  14.4/14.6 MB 8.0 MB/s eta 0:00:01\n",
      "   ---------------------------------------  14.6/14.6 MB 7.9 MB/s eta 0:00:01\n",
      "   ---------------------------------------  14.6/14.6 MB 8.0 MB/s eta 0:00:01\n",
      "   ---------------------------------------- 14.6/14.6 MB 7.7 MB/s eta 0:00:00\n",
      "Downloading protobuf-4.21.2-cp310-abi3-win_amd64.whl (524 kB)\n",
      "   ---------------------------------------- 0.0/525.0 kB ? eta -:--:--\n",
      "   -------------------------------- ------- 430.1/525.0 kB 8.9 MB/s eta 0:00:01\n",
      "   ---------------------------------------- 525.0/525.0 kB 6.6 MB/s eta 0:00:00\n",
      "Installing collected packages: protobuf, numpy\n",
      "  Attempting uninstall: protobuf\n",
      "    Found existing installation: protobuf 4.25.3\n",
      "    Uninstalling protobuf-4.25.3:\n",
      "      Successfully uninstalled protobuf-4.25.3\n",
      "  Attempting uninstall: numpy\n",
      "    Found existing installation: numpy 1.26.3\n",
      "    Uninstalling numpy-1.26.3:\n",
      "      Successfully uninstalled numpy-1.26.3\n",
      "Successfully installed numpy-1.23.5 protobuf-4.21.2\n",
      "Note: you may need to restart the kernel to use updated packages.\n"
     ]
    },
    {
     "name": "stderr",
     "output_type": "stream",
     "text": [
      "  WARNING: Failed to remove contents in a temporary directory 'C:\\Users\\HP\\anaconda3\\envs\\lokesh\\Lib\\site-packages\\google\\~upb'.\n",
      "  You can safely remove it manually.\n",
      "  WARNING: Failed to remove contents in a temporary directory 'C:\\Users\\HP\\anaconda3\\envs\\lokesh\\Lib\\site-packages\\~umpy.libs'.\n",
      "  You can safely remove it manually.\n",
      "  WARNING: Failed to remove contents in a temporary directory 'C:\\Users\\HP\\anaconda3\\envs\\lokesh\\Lib\\site-packages\\~umpy'.\n",
      "  You can safely remove it manually.\n",
      "ERROR: pip's dependency resolver does not currently take into account all the packages that are installed. This behaviour is the source of the following dependency conflicts.\n",
      "tensorflow-intel 2.16.1 requires protobuf!=4.21.0,!=4.21.1,!=4.21.2,!=4.21.3,!=4.21.4,!=4.21.5,<5.0.0dev,>=3.20.3, but you have protobuf 4.21.2 which is incompatible.\n"
     ]
    }
   ],
   "source": [
    "pip install -r requirements.txt"
   ]
  },
  {
   "cell_type": "code",
   "execution_count": 5,
   "id": "31c21e95-8b10-44b7-9519-2d28f6dca99c",
   "metadata": {
    "scrolled": true
   },
   "outputs": [
    {
     "name": "stdout",
     "output_type": "stream",
     "text": [
      "C:\\Users\\HP\\Desktop\\Y Python\\YOLO\\v7\n",
      "Setup complete. Using torch 2.3.0+cpu (CPU)\n"
     ]
    }
   ],
   "source": [
    "%cd ../\n",
    "import torch\n",
    "print(f\"Setup complete. Using torch {torch.__version__} ({torch.cuda.get_device_properties(0).name if torch.cuda.is_available() else 'CPU'})\")\n"
   ]
  },
  {
   "cell_type": "code",
   "execution_count": 7,
   "id": "370fad75-a231-477b-8f85-ae5a8c14f684",
   "metadata": {},
   "outputs": [
    {
     "data": {
      "text/plain": [
       "'C:\\\\Users\\\\HP\\\\Desktop\\\\Y Python\\\\YOLO\\\\v7\\\\yolov7'"
      ]
     },
     "execution_count": 7,
     "metadata": {},
     "output_type": "execute_result"
    }
   ],
   "source": [
    "pwd"
   ]
  },
  {
   "cell_type": "code",
   "execution_count": 9,
   "id": "7d6a29e9-4114-4b02-86bd-dbfa9d781813",
   "metadata": {},
   "outputs": [
    {
     "name": "stdout",
     "output_type": "stream",
     "text": [
      "Namespace(weights=['yolov7.pt'], source='inference/images/image2.jpg', img_size=640, conf_thres=0.25, iou_thres=0.45, device='cpu', view_img=False, save_txt=False, save_conf=False, nosave=False, classes=None, agnostic_nms=False, augment=False, update=False, project='runs/detect', name='exp', exist_ok=False, no_trace=False)"
     ]
    },
    {
     "name": "stderr",
     "output_type": "stream",
     "text": [
      "YOLOR  2024-6-2 torch 2.3.0+cpu CPU\n",
      "\n",
      "C:\\Users\\HP\\anaconda3\\envs\\lokesh\\lib\\site-packages\\torch\\functional.py:512: UserWarning: torch.meshgrid: in an upcoming release, it will be required to pass the indexing argument. (Triggered internally at ..\\aten\\src\\ATen\\native\\TensorShape.cpp:3588.)\n",
      "  return _VF.meshgrid(tensors, **kwargs)  # type: ignore[attr-defined]\n",
      "Model Summary: 306 layers, 36905341 parameters, 6652669 gradients, 104.5 GFLOPS\n"
     ]
    },
    {
     "name": "stdout",
     "output_type": "stream",
     "text": [
      "\n",
      "Fusing layers... \n",
      "RepConv.fuse_repvgg_block\n",
      "RepConv.fuse_repvgg_block\n",
      "RepConv.fuse_repvgg_block\n",
      " Convert model to Traced-model... \n",
      " traced_script_module saved! \n",
      " model is traced! \n",
      "\n",
      "2 persons, 1 sports ball, Done. (1960.7ms) Inference, (35.5ms) NMS\n",
      " The image with the result is saved in: runs\\detect\\exp\\image2.jpg\n",
      "Done. (2.105s)\n"
     ]
    }
   ],
   "source": [
    "!python detect.py --source inference/images/image2.jpg --weights yolov7.pt --device cpu"
   ]
  },
  {
   "cell_type": "code",
   "execution_count": 8,
   "id": "838ce391-252c-45d9-b461-aa390ab50e69",
   "metadata": {},
   "outputs": [
    {
     "name": "stdout",
     "output_type": "stream",
     "text": [
      "usage: detect.py [-h] [--weights WEIGHTS [WEIGHTS ...]] [--source SOURCE]\n",
      "                 [--img-size IMG_SIZE] [--conf-thres CONF_THRES]\n",
      "                 [--iou-thres IOU_THRES] [--device DEVICE] [--view-img]\n",
      "                 [--save-txt] [--save-conf] [--nosave]\n",
      "                 [--classes CLASSES [CLASSES ...]] [--agnostic-nms]\n",
      "                 [--augment] [--update] [--project PROJECT] [--name NAME]\n",
      "                 [--exist-ok] [--no-trace]\n",
      "\n",
      "options:\n",
      "  -h, --help            show this help message and exit\n",
      "  --weights WEIGHTS [WEIGHTS ...]\n",
      "                        model.pt path(s)\n",
      "  --source SOURCE       source\n",
      "  --img-size IMG_SIZE   inference size (pixels)\n",
      "  --conf-thres CONF_THRES\n",
      "                        object confidence threshold\n",
      "  --iou-thres IOU_THRES\n",
      "                        IOU threshold for NMS\n",
      "  --device DEVICE       cuda device, i.e. 0 or 0,1,2,3 or cpu\n",
      "  --view-img            display results\n",
      "  --save-txt            save results to *.txt\n",
      "  --save-conf           save confidences in --save-txt labels\n",
      "  --nosave              do not save images/videos\n",
      "  --classes CLASSES [CLASSES ...]\n",
      "                        filter by class: --class 0, or --class 0 2 3\n",
      "  --agnostic-nms        class-agnostic NMS\n",
      "  --augment             augmented inference\n",
      "  --update              update all models\n",
      "  --project PROJECT     save results to project/name\n",
      "  --name NAME           save results to project/name\n",
      "  --exist-ok            existing project/name ok, do not increment\n",
      "  --no-trace            don`t trace model\n"
     ]
    }
   ],
   "source": [
    "!python detect.py -h"
   ]
  }
 ],
 "metadata": {
  "kernelspec": {
   "display_name": "Python 3 (ipykernel)",
   "language": "python",
   "name": "python3"
  },
  "language_info": {
   "codemirror_mode": {
    "name": "ipython",
    "version": 3
   },
   "file_extension": ".py",
   "mimetype": "text/x-python",
   "name": "python",
   "nbconvert_exporter": "python",
   "pygments_lexer": "ipython3",
   "version": "3.10.13"
  }
 },
 "nbformat": 4,
 "nbformat_minor": 5
}
